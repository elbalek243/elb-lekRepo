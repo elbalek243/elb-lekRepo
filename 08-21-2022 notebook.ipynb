{
 "cells": [
  {
   "cell_type": "code",
   "execution_count": 1,
   "id": "21361d0b",
   "metadata": {},
   "outputs": [
    {
     "name": "stdout",
     "output_type": "stream",
     "text": [
      "hello world\n"
     ]
    }
   ],
   "source": [
    "print('hello world')\n",
    "#print is function in python\n",
    "#parentheses are round brackets\n",
    "#'',\"\"\n",
    "# is a comment in python\n",
    "# the following code will print the value of variable in python\n",
    "# x=10 y=20 c=a+b\n",
    "# x=\"elbalek\"\n",
    "# variables are written without a space\n",
    "#only function are written in small letter"
   ]
  },
  {
   "cell_type": "code",
   "execution_count": 2,
   "id": "b4b42b4d",
   "metadata": {},
   "outputs": [
    {
     "name": "stdout",
     "output_type": "stream",
     "text": [
      "10\n",
      "20\n",
      "Elbalek\n"
     ]
    }
   ],
   "source": [
    "x=10\n",
    "y=20\n",
    "myName=\"Elbalek\"\n",
    "print(x)\n",
    "print(y)\n",
    "print(myName)"
   ]
  },
  {
   "cell_type": "code",
   "execution_count": null,
   "id": "ccf63257",
   "metadata": {},
   "outputs": [],
   "source": []
  }
 ],
 "metadata": {
  "kernelspec": {
   "display_name": "Python 3 (ipykernel)",
   "language": "python",
   "name": "python3"
  },
  "language_info": {
   "codemirror_mode": {
    "name": "ipython",
    "version": 3
   },
   "file_extension": ".py",
   "mimetype": "text/x-python",
   "name": "python",
   "nbconvert_exporter": "python",
   "pygments_lexer": "ipython3",
   "version": "3.9.7"
  }
 },
 "nbformat": 4,
 "nbformat_minor": 5
}
